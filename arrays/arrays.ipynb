{
 "cells": [
  {
   "cell_type": "code",
   "execution_count": 1,
   "id": "0560e2f7",
   "metadata": {},
   "outputs": [],
   "source": [
    "import numpy as np"
   ]
  },
  {
   "cell_type": "markdown",
   "id": "dec966b2",
   "metadata": {},
   "source": [
    "# Recursive binary search"
   ]
  },
  {
   "cell_type": "code",
   "execution_count": 34,
   "id": "7bff62e0",
   "metadata": {},
   "outputs": [],
   "source": [
    "def binary_search_ordered_list(ls, val, start_idx=None, end_idx=None , mid_idx=None):\n",
    "    mid_idx = len(ls)//2 if start_idx is None else start_idx\n",
    "    start_idx = 0 if start_idx is None else start_idx\n",
    "    end_idx = len(ls)-1 if end_idx is None else end_idx\n",
    "    mid_idx = (end_idx + start_idx)//2\n",
    "    if ls[mid_idx] ==val or start_idx == end_idx:\n",
    "        return mid_idx\n",
    "    else:\n",
    "        if ls[mid_idx] < val:\n",
    "            idx=binary_search_ordered_list(ls, val, start_idx=mid_idx+1, end_idx = end_idx)\n",
    "        else:\n",
    "            idx=binary_search_ordered_list(ls, val, start_idx=start_idx, end_idx = mid_idx-1)\n",
    "        return idx\n",
    "    \n",
    "a = [10,13,15, 16, 20, 25,42]"
   ]
  },
  {
   "cell_type": "markdown",
   "id": "92e242b2",
   "metadata": {},
   "source": [
    "# While Loop Binary Search"
   ]
  },
  {
   "cell_type": "code",
   "execution_count": 41,
   "id": "98677852",
   "metadata": {},
   "outputs": [
    {
     "name": "stdout",
     "output_type": "stream",
     "text": [
      "5\n"
     ]
    }
   ],
   "source": [
    "p = binary_search_ordered_list(a, 25)\n",
    "print(p)"
   ]
  },
  {
   "cell_type": "code",
   "execution_count": null,
   "id": "6de6c959",
   "metadata": {},
   "outputs": [],
   "source": []
  },
  {
   "cell_type": "code",
   "execution_count": null,
   "id": "1083f613",
   "metadata": {},
   "outputs": [],
   "source": []
  }
 ],
 "metadata": {
  "kernelspec": {
   "display_name": "cs224n",
   "language": "python",
   "name": "cs224n"
  },
  "language_info": {
   "codemirror_mode": {
    "name": "ipython",
    "version": 3
   },
   "file_extension": ".py",
   "mimetype": "text/x-python",
   "name": "python",
   "nbconvert_exporter": "python",
   "pygments_lexer": "ipython3",
   "version": "3.12.8"
  }
 },
 "nbformat": 4,
 "nbformat_minor": 5
}
