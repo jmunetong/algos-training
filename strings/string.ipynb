{
 "cells": [
  {
   "cell_type": "code",
   "execution_count": 1,
   "id": "226b1995",
   "metadata": {},
   "outputs": [],
   "source": [
    "import numpy as np"
   ]
  },
  {
   "cell_type": "markdown",
   "id": "d0e2d889",
   "metadata": {},
   "source": [
    "## String Manipulation Python\n"
   ]
  },
  {
   "cell_type": "code",
   "execution_count": 2,
   "id": "4be8f49d",
   "metadata": {},
   "outputs": [],
   "source": [
    "s = \"hello world\""
   ]
  },
  {
   "cell_type": "code",
   "execution_count": 3,
   "id": "30dd3acc",
   "metadata": {},
   "outputs": [
    {
     "name": "stdout",
     "output_type": "stream",
     "text": [
      "Hello world\n"
     ]
    }
   ],
   "source": [
    "# capitalizing the first letter\n",
    "print(s.capitalize())"
   ]
  },
  {
   "cell_type": "code",
   "execution_count": 4,
   "id": "85b5aae8",
   "metadata": {},
   "outputs": [
    {
     "name": "stdout",
     "output_type": "stream",
     "text": [
      "HELLO WORLD\n"
     ]
    }
   ],
   "source": [
    "# capitalize all wordS:\n",
    "print(s.upper())"
   ]
  },
  {
   "cell_type": "code",
   "execution_count": 9,
   "id": "d8affbe2",
   "metadata": {},
   "outputs": [
    {
     "data": {
      "text/plain": [
       "'aaaahello worldaaaaa'"
      ]
     },
     "execution_count": 9,
     "metadata": {},
     "output_type": "execute_result"
    }
   ],
   "source": [
    "# returning center of stirng\n",
    "s.center(20,\"a\")\n",
    "# What we are doing here is we are centering the given string and padding it with some element defined in the second argument"
   ]
  },
  {
   "cell_type": "code",
   "execution_count": 10,
   "id": "3fb5ebb0",
   "metadata": {},
   "outputs": [
    {
     "data": {
      "text/plain": [
       "b'hello world'"
      ]
     },
     "execution_count": 10,
     "metadata": {},
     "output_type": "execute_result"
    }
   ],
   "source": [
    "s.encode()"
   ]
  },
  {
   "cell_type": "code",
   "execution_count": 12,
   "id": "2cf810c1",
   "metadata": {},
   "outputs": [
    {
     "data": {
      "text/plain": [
       "3"
      ]
     },
     "execution_count": 12,
     "metadata": {},
     "output_type": "execute_result"
    }
   ],
   "source": [
    "s.count(\"l\")\n",
    "# this returns the number of times we see the letter l in the string"
   ]
  },
  {
   "cell_type": "code",
   "execution_count": 13,
   "id": "34f88296",
   "metadata": {},
   "outputs": [
    {
     "data": {
      "text/plain": [
       "True"
      ]
     },
     "execution_count": 13,
     "metadata": {},
     "output_type": "execute_result"
    }
   ],
   "source": [
    "s.endswith(\"world\")"
   ]
  },
  {
   "cell_type": "code",
   "execution_count": 14,
   "id": "689a3a34",
   "metadata": {},
   "outputs": [
    {
     "data": {
      "text/plain": [
       "False"
      ]
     },
     "execution_count": 14,
     "metadata": {},
     "output_type": "execute_result"
    }
   ],
   "source": [
    "s.endswith(\"p\")"
   ]
  },
  {
   "cell_type": "code",
   "execution_count": 16,
   "id": "4e2f209a",
   "metadata": {},
   "outputs": [
    {
     "data": {
      "text/plain": [
       "'hello world'"
      ]
     },
     "execution_count": 16,
     "metadata": {},
     "output_type": "execute_result"
    }
   ],
   "source": [
    "s.expandtabs(40)"
   ]
  },
  {
   "cell_type": "code",
   "execution_count": 17,
   "id": "ed70dce2",
   "metadata": {},
   "outputs": [
    {
     "data": {
      "text/plain": [
       "'hello world'"
      ]
     },
     "execution_count": 17,
     "metadata": {},
     "output_type": "execute_result"
    }
   ],
   "source": [
    "s"
   ]
  },
  {
   "cell_type": "code",
   "execution_count": 21,
   "id": "80d5f6ec",
   "metadata": {},
   "outputs": [
    {
     "name": "stdout",
     "output_type": "stream",
     "text": [
      "this is the price of the item 10.50 and the tax is 1.50\n"
     ]
    }
   ],
   "source": [
    "s2 = \"this is the price of the item {price:.2f} and the tax is {tax:.2f}\"\n",
    "print(s2.format(price=10.5, tax=1.5))\n",
    "# using the formating option in oython"
   ]
  },
  {
   "cell_type": "code",
   "execution_count": 22,
   "id": "81439760",
   "metadata": {},
   "outputs": [
    {
     "data": {
      "text/plain": [
       "6"
      ]
     },
     "execution_count": 22,
     "metadata": {},
     "output_type": "execute_result"
    }
   ],
   "source": [
    "s.index(\"world\")"
   ]
  },
  {
   "cell_type": "code",
   "execution_count": 24,
   "id": "4097a7cf",
   "metadata": {},
   "outputs": [
    {
     "data": {
      "text/plain": [
       "'hello python'"
      ]
     },
     "execution_count": 24,
     "metadata": {},
     "output_type": "execute_result"
    }
   ],
   "source": [
    "# replace\n",
    "s.replace(\"world\", \"python\")"
   ]
  },
  {
   "cell_type": "code",
   "execution_count": 26,
   "id": "d4193fe1",
   "metadata": {},
   "outputs": [
    {
     "name": "stdout",
     "output_type": "stream",
     "text": [
      "hello world\n"
     ]
    }
   ],
   "source": [
    "#strip\n",
    "s3 = \"   hello world   \"\n",
    "print(s3.strip())"
   ]
  },
  {
   "cell_type": "code",
   "execution_count": 28,
   "id": "662ecfb2",
   "metadata": {},
   "outputs": [
    {
     "data": {
      "text/plain": [
       "['hello ', 'orld']"
      ]
     },
     "execution_count": 28,
     "metadata": {},
     "output_type": "execute_result"
    }
   ],
   "source": [
    "# split\n",
    "s.split(\"w\")"
   ]
  },
  {
   "cell_type": "code",
   "execution_count": null,
   "id": "4a6e4c20",
   "metadata": {},
   "outputs": [],
   "source": []
  }
 ],
 "metadata": {
  "kernelspec": {
   "display_name": "cs224n",
   "language": "python",
   "name": "cs224n"
  },
  "language_info": {
   "codemirror_mode": {
    "name": "ipython",
    "version": 3
   },
   "file_extension": ".py",
   "mimetype": "text/x-python",
   "name": "python",
   "nbconvert_exporter": "python",
   "pygments_lexer": "ipython3",
   "version": "3.12.8"
  }
 },
 "nbformat": 4,
 "nbformat_minor": 5
}
