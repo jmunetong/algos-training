{
 "cells": [
  {
   "cell_type": "code",
   "execution_count": 162,
   "metadata": {},
   "outputs": [],
   "source": [
    "import numpy as np\n"
   ]
  },
  {
   "cell_type": "code",
   "execution_count": 171,
   "metadata": {},
   "outputs": [],
   "source": [
    "def quicksort(arr, l, r):\n",
    "\n",
    "    if l >= r:\n",
    "        return \n",
    "    start = l\n",
    "    end = r\n",
    "    p_idx = (l + r)//2\n",
    "    p = arr[p_idx]\n",
    "    print(arr)\n",
    "    while l <=r:\n",
    "        while arr[l] < p:\n",
    "            l += 1\n",
    "        while arr[r] > p :\n",
    "            r -= 1\n",
    "        if l <= r:\n",
    "            arr[l], arr[r] = arr[r], arr[l]\n",
    "            l +=1\n",
    "            r -=1\n",
    "    quicksort(arr,start, r)\n",
    "    quicksort(arr, l, end)"
   ]
  },
  {
   "cell_type": "code",
   "execution_count": 172,
   "metadata": {},
   "outputs": [
    {
     "name": "stdout",
     "output_type": "stream",
     "text": [
      "[17  2  6 15  8 13  4 12 19 13]\n",
      "sorted\n",
      "[17  2  6 15  8 13  4 12 19 13]\n",
      "[ 4  2  6  8 15 13 17 12 19 13]\n",
      "[ 2  4  6  8 15 13 17 12 19 13]\n",
      "[ 2  4  6  8 15 13 17 12 19 13]\n",
      "[ 2  4  6  8 15 13 13 12 19 17]\n",
      "[ 2  4  6  8 12 13 13 15 19 17]\n",
      "[ 2  4  6  8 12 13 13 15 19 17]\n",
      "[ 2  4  6  8 12 13 13 15 19 17]\n",
      "[ 2  4  6  8 12 13 13 15 17 19]\n"
     ]
    }
   ],
   "source": [
    "arr =np.random.randint(0, 20, 10)\n",
    "print(arr)\n",
    "print(\"sorted\")\n",
    "quicksort(arr, 0, len(arr)-1)\n",
    "print(arr)"
   ]
  },
  {
   "cell_type": "code",
   "execution_count": null,
   "metadata": {},
   "outputs": [],
   "source": []
  },
  {
   "cell_type": "code",
   "execution_count": null,
   "metadata": {},
   "outputs": [],
   "source": [
    "def quicksort(arr, l, r):\n",
    "    if l >= r:  # Base case: subarray of size 0 or 1\n",
    "        return\n",
    "\n",
    "    # Choose the pivot (middle element)\n",
    "    pivot = arr[(l + r) // 2]\n",
    "    print(f\"Pivot: {pivot}\")\n",
    "    \n",
    "    # Partitioning\n",
    "    i, j = l, r\n",
    "    while i <= j:\n",
    "        # Find elements on the wrong side of the pivot\n",
    "        while arr[i] < pivot:\n",
    "            i += 1\n",
    "        while arr[j] > pivot:\n",
    "            j -= 1\n",
    "        \n",
    "        if i <= j:\n",
    "            # Swap elements\n",
    "            arr[i], arr[j] = arr[j], arr[i]\n",
    "            i += 1\n",
    "            j -= 1\n",
    "\n",
    "    # Recursive calls for left and right subarrays\n",
    "    quicksort(arr, l, j)\n",
    "    quicksort(arr, i, r)\n",
    "\n",
    "# Example usage\n",
    "arr = [3, 6, 8, 10, 1, 2, 1]\n",
    "print(\"Original array:\", arr)\n",
    "quicksort(arr, 0, len(arr) - 1)\n",
    "print(\"Sorted array:\", arr)"
   ]
  },
  {
   "cell_type": "code",
   "execution_count": 1,
   "metadata": {},
   "outputs": [
    {
     "data": {
      "text/plain": [
       "0.8531952968749997"
      ]
     },
     "execution_count": 1,
     "metadata": {},
     "output_type": "execute_result"
    }
   ],
   "source": [
    "0.95**4 * (0.95 +1 - 0.95**2)"
   ]
  },
  {
   "cell_type": "code",
   "execution_count": 2,
   "metadata": {},
   "outputs": [
    {
     "data": {
      "text/plain": [
       "0.14680470312500027"
      ]
     },
     "execution_count": 2,
     "metadata": {},
     "output_type": "execute_result"
    }
   ],
   "source": [
    "1 - 0.95**4 * (0.95 +1 - 0.95**2)"
   ]
  },
  {
   "cell_type": "code",
   "execution_count": null,
   "metadata": {},
   "outputs": [],
   "source": []
  }
 ],
 "metadata": {
  "kernelspec": {
   "display_name": "cs224n",
   "language": "python",
   "name": "cs224n"
  },
  "language_info": {
   "codemirror_mode": {
    "name": "ipython",
    "version": 3
   },
   "file_extension": ".py",
   "mimetype": "text/x-python",
   "name": "python",
   "nbconvert_exporter": "python",
   "pygments_lexer": "ipython3",
   "version": "3.12.8"
  }
 },
 "nbformat": 4,
 "nbformat_minor": 2
}
